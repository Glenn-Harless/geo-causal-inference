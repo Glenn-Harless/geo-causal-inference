{
 "cells": [
  {
   "cell_type": "markdown",
   "metadata": {},
   "source": [
    "# Geographic Cost & Response Analysis\n",
    "\n",
    "This notebook joins multiple data sources to create a unified view of marketing spend and user response across different geographic regions.\n",
    "\n",
    "**Data sources:**\n",
    "- GA4 Sessions (response metric)\n",
    "- Meta Geo Spend\n",
    "- TikTok Geo Spend\n",
    "- Google Ads Geo Spend\n",
    "\n",
    "**Target format:**\n",
    "- Date\n",
    "- Geo\n",
    "- Cost (sum of all platform spends)\n",
    "- Response (GA4 sessions)"
   ]
  },
  {
   "cell_type": "code",
   "execution_count": null,
   "metadata": {},
   "outputs": [],
   "source": [
    "# Import necessary libraries\n",
    "import pandas as pd\n",
    "import numpy as np\n",
    "import matplotlib.pyplot as plt\n",
    "import seaborn as sns\n",
    "from datetime import datetime\n",
    "import os\n",
    "import re\n",
    "import warnings\n",
    "\n",
    "# Set display options\n",
    "pd.set_option('display.max_columns', None)\n",
    "pd.set_option('display.max_rows', 100)\n",
    "pd.set_option('display.width', 1000)\n",
    "warnings.filterwarnings('ignore')\n",
    "\n",
    "# Set paths\n",
    "RAW_DATA_PATH = '../raw_data/'\n",
    "OUTPUT_PATH = '../data/'"
   ]
  }
 ],
 "metadata": {
  "kernelspec": {
   "display_name": "Python 3 (ipykernel)",
   "language": "python",
   "name": "python3"
  },
  "language_info": {
   "codemirror_mode": {
    "name": "ipython",
    "version": 3
   },
   "file_extension": ".py",
   "mimetype": "text/x-python",
   "name": "python",
   "nbconvert_exporter": "python",
   "pygments_lexer": "ipython3",
   "version": "3.7.17"
  }
 },
 "nbformat": 4,
 "nbformat_minor": 4
}
