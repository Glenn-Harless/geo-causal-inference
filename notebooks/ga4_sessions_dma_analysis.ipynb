{
 "cells": [
  {
   "cell_type": "markdown",
   "metadata": {},
   "source": [
    "# GA4 Sessions Analysis at DMA Level\n",
    "\n",
    "This notebook analyzes Google Analytics 4 (GA4) sessions data grouped at the Designated Market Area (DMA) level."
   ]
  },
  {
   "cell_type": "code",
   "execution_count": 1,
   "metadata": {},
   "outputs": [],
   "source": [
    "import pandas as pd\n",
    "import numpy as np\n",
    "import matplotlib.pyplot as plt\n",
    "import seaborn as sns\n",
    "import datetime as dt\n",
    "import sys\n",
    "import os\n",
    "\n",
    "# Set up plotting\n",
    "plt.style.use('ggplot')\n",
    "sns.set(style=\"whitegrid\")\n",
    "pd.set_option('display.max_columns', None)\n",
    "pd.set_option('display.max_rows', 100)"
   ]
  },
  {
   "cell_type": "markdown",
   "metadata": {},
   "source": [
    "## 1. Load the GA4 Sessions Data"
   ]
  },
  {
   "cell_type": "code",
   "execution_count": 2,
   "metadata": {},
   "outputs": [
    {
     "name": "stdout",
     "output_type": "stream",
     "text": [
      "Total GA4 records: 100000\n"
     ]
    },
    {
     "data": {
      "text/html": [
       "<div>\n",
       "<style scoped>\n",
       "    .dataframe tbody tr th:only-of-type {\n",
       "        vertical-align: middle;\n",
       "    }\n",
       "\n",
       "    .dataframe tbody tr th {\n",
       "        vertical-align: top;\n",
       "    }\n",
       "\n",
       "    .dataframe thead th {\n",
       "        text-align: right;\n",
       "    }\n",
       "</style>\n",
       "<table border=\"1\" class=\"dataframe\">\n",
       "  <thead>\n",
       "    <tr style=\"text-align: right;\">\n",
       "      <th></th>\n",
       "      <th>Date</th>\n",
       "      <th>Region</th>\n",
       "      <th>Region ID</th>\n",
       "      <th>City</th>\n",
       "      <th>City ID</th>\n",
       "      <th>Sessions</th>\n",
       "      <th>Engaged sessions</th>\n",
       "    </tr>\n",
       "  </thead>\n",
       "  <tbody>\n",
       "    <tr>\n",
       "      <th>0</th>\n",
       "      <td>20250319</td>\n",
       "      <td>(not set)</td>\n",
       "      <td>(not set)</td>\n",
       "      <td>(not set)</td>\n",
       "      <td>(not set)</td>\n",
       "      <td>19</td>\n",
       "      <td>1</td>\n",
       "    </tr>\n",
       "    <tr>\n",
       "      <th>1</th>\n",
       "      <td>20250319</td>\n",
       "      <td>Alabama</td>\n",
       "      <td>US-AL</td>\n",
       "      <td>Headland</td>\n",
       "      <td>1013037</td>\n",
       "      <td>1</td>\n",
       "      <td>0</td>\n",
       "    </tr>\n",
       "    <tr>\n",
       "      <th>2</th>\n",
       "      <td>20250319</td>\n",
       "      <td>Alabama</td>\n",
       "      <td>US-AL</td>\n",
       "      <td>Huntsville</td>\n",
       "      <td>1013042</td>\n",
       "      <td>1</td>\n",
       "      <td>0</td>\n",
       "    </tr>\n",
       "    <tr>\n",
       "      <th>3</th>\n",
       "      <td>20250319</td>\n",
       "      <td>Alabama</td>\n",
       "      <td>US-AL</td>\n",
       "      <td>Uniontown</td>\n",
       "      <td>9207090</td>\n",
       "      <td>1</td>\n",
       "      <td>1</td>\n",
       "    </tr>\n",
       "    <tr>\n",
       "      <th>4</th>\n",
       "      <td>20250319</td>\n",
       "      <td>Alaska</td>\n",
       "      <td>US-AK</td>\n",
       "      <td>Sitka</td>\n",
       "      <td>1012913</td>\n",
       "      <td>1</td>\n",
       "      <td>0</td>\n",
       "    </tr>\n",
       "  </tbody>\n",
       "</table>\n",
       "</div>"
      ],
      "text/plain": [
       "       Date     Region  Region ID        City    City ID  Sessions  \\\n",
       "0  20250319  (not set)  (not set)   (not set)  (not set)        19   \n",
       "1  20250319    Alabama      US-AL    Headland    1013037         1   \n",
       "2  20250319    Alabama      US-AL  Huntsville    1013042         1   \n",
       "3  20250319    Alabama      US-AL   Uniontown    9207090         1   \n",
       "4  20250319     Alaska      US-AK       Sitka    1012913         1   \n",
       "\n",
       "   Engaged sessions  \n",
       "0                 1  \n",
       "1                 0  \n",
       "2                 0  \n",
       "3                 1  \n",
       "4                 0  "
      ]
     },
     "execution_count": 2,
     "metadata": {},
     "output_type": "execute_result"
    }
   ],
   "source": [
    "# Load GA4 sessions data\n",
    "ga4_df = pd.read_csv('../raw_data/ga4_sessions.csv')\n",
    "\n",
    "# Display the first few rows\n",
    "print(f\"Total GA4 records: {len(ga4_df)}\")\n",
    "ga4_df.head()"
   ]
  },
  {
   "cell_type": "code",
   "execution_count": 3,
   "metadata": {},
   "outputs": [
    {
     "name": "stdout",
     "output_type": "stream",
     "text": [
      "Missing values in each column:\n"
     ]
    },
    {
     "data": {
      "text/plain": [
       "Date                0\n",
       "Region              0\n",
       "Region ID           0\n",
       "City                0\n",
       "City ID             0\n",
       "Sessions            0\n",
       "Engaged sessions    0\n",
       "dtype: int64"
      ]
     },
     "execution_count": 3,
     "metadata": {},
     "output_type": "execute_result"
    }
   ],
   "source": [
    "# Check for missing values\n",
    "print(\"Missing values in each column:\")\n",
    "ga4_df.isnull().sum()"
   ]
  },
  {
   "cell_type": "code",
   "execution_count": 4,
   "metadata": {},
   "outputs": [
    {
     "data": {
      "text/plain": [
       "Date                 int64\n",
       "Region              object\n",
       "Region ID           object\n",
       "City                object\n",
       "City ID             object\n",
       "Sessions             int64\n",
       "Engaged sessions     int64\n",
       "dtype: object"
      ]
     },
     "execution_count": 4,
     "metadata": {},
     "output_type": "execute_result"
    }
   ],
   "source": [
    "# Check data types\n",
    "ga4_df.dtypes"
   ]
  },
  {
   "cell_type": "code",
   "execution_count": 5,
   "metadata": {},
   "outputs": [
    {
     "name": "stdout",
     "output_type": "stream",
     "text": [
      "Records with '(not set)' for Region or City: 4232\n"
     ]
    }
   ],
   "source": [
    "# Convert Date to proper datetime format (assuming YYYYMMDD format)\n",
    "ga4_df['Date'] = pd.to_datetime(ga4_df['Date'], format='%Y%m%d')\n",
    "\n",
    "# Handling potential '(not set)' values\n",
    "not_set_mask = (ga4_df['Region'] == '(not set)') | (ga4_df['City'] == '(not set)')\n",
    "print(f\"Records with '(not set)' for Region or City: {not_set_mask.sum()}\")"
   ]
  },
  {
   "cell_type": "markdown",
   "metadata": {},
   "source": [
    "## 2. Load the Geo Spine Data"
   ]
  },
  {
   "cell_type": "code",
   "execution_count": 6,
   "metadata": {},
   "outputs": [
    {
     "name": "stdout",
     "output_type": "stream",
     "text": [
      "Total geo spine records: 40775\n"
     ]
    },
    {
     "data": {
      "text/html": [
       "<div>\n",
       "<style scoped>\n",
       "    .dataframe tbody tr th:only-of-type {\n",
       "        vertical-align: middle;\n",
       "    }\n",
       "\n",
       "    .dataframe tbody tr th {\n",
       "        vertical-align: top;\n",
       "    }\n",
       "\n",
       "    .dataframe thead th {\n",
       "        text-align: right;\n",
       "    }\n",
       "</style>\n",
       "<table border=\"1\" class=\"dataframe\">\n",
       "  <thead>\n",
       "    <tr style=\"text-align: right;\">\n",
       "      <th></th>\n",
       "      <th>zip_code</th>\n",
       "      <th>dma_code</th>\n",
       "      <th>dma_name</th>\n",
       "      <th>city</th>\n",
       "      <th>state</th>\n",
       "      <th>state_name</th>\n",
       "      <th>geo_key_zip</th>\n",
       "      <th>geo_key_city</th>\n",
       "      <th>geo_key_dma</th>\n",
       "      <th>geo_key_state</th>\n",
       "    </tr>\n",
       "  </thead>\n",
       "  <tbody>\n",
       "    <tr>\n",
       "      <th>0</th>\n",
       "      <td>11005</td>\n",
       "      <td>501</td>\n",
       "      <td>NEW YORK</td>\n",
       "      <td>FLORAL PARK</td>\n",
       "      <td>NY</td>\n",
       "      <td>New York</td>\n",
       "      <td>11005</td>\n",
       "      <td>FLORAL PARK, NY</td>\n",
       "      <td>NEW YORK</td>\n",
       "      <td>NY</td>\n",
       "    </tr>\n",
       "    <tr>\n",
       "      <th>1</th>\n",
       "      <td>11010</td>\n",
       "      <td>501</td>\n",
       "      <td>NEW YORK</td>\n",
       "      <td>FRANKLIN SQUARE</td>\n",
       "      <td>NY</td>\n",
       "      <td>New York</td>\n",
       "      <td>11010</td>\n",
       "      <td>FRANKLIN SQUARE, NY</td>\n",
       "      <td>NEW YORK</td>\n",
       "      <td>NY</td>\n",
       "    </tr>\n",
       "    <tr>\n",
       "      <th>2</th>\n",
       "      <td>11020</td>\n",
       "      <td>501</td>\n",
       "      <td>NEW YORK</td>\n",
       "      <td>GREAT NECK</td>\n",
       "      <td>NY</td>\n",
       "      <td>New York</td>\n",
       "      <td>11020</td>\n",
       "      <td>GREAT NECK, NY</td>\n",
       "      <td>NEW YORK</td>\n",
       "      <td>NY</td>\n",
       "    </tr>\n",
       "    <tr>\n",
       "      <th>3</th>\n",
       "      <td>11021</td>\n",
       "      <td>501</td>\n",
       "      <td>NEW YORK</td>\n",
       "      <td>GREAT NECK</td>\n",
       "      <td>NY</td>\n",
       "      <td>New York</td>\n",
       "      <td>11021</td>\n",
       "      <td>GREAT NECK, NY</td>\n",
       "      <td>NEW YORK</td>\n",
       "      <td>NY</td>\n",
       "    </tr>\n",
       "    <tr>\n",
       "      <th>4</th>\n",
       "      <td>11023</td>\n",
       "      <td>501</td>\n",
       "      <td>NEW YORK</td>\n",
       "      <td>GREAT NECK</td>\n",
       "      <td>NY</td>\n",
       "      <td>New York</td>\n",
       "      <td>11023</td>\n",
       "      <td>GREAT NECK, NY</td>\n",
       "      <td>NEW YORK</td>\n",
       "      <td>NY</td>\n",
       "    </tr>\n",
       "  </tbody>\n",
       "</table>\n",
       "</div>"
      ],
      "text/plain": [
       "  zip_code  dma_code  dma_name             city state state_name  geo_key_zip  \\\n",
       "0    11005       501  NEW YORK      FLORAL PARK    NY   New York        11005   \n",
       "1    11010       501  NEW YORK  FRANKLIN SQUARE    NY   New York        11010   \n",
       "2    11020       501  NEW YORK       GREAT NECK    NY   New York        11020   \n",
       "3    11021       501  NEW YORK       GREAT NECK    NY   New York        11021   \n",
       "4    11023       501  NEW YORK       GREAT NECK    NY   New York        11023   \n",
       "\n",
       "          geo_key_city geo_key_dma geo_key_state  \n",
       "0      FLORAL PARK, NY    NEW YORK            NY  \n",
       "1  FRANKLIN SQUARE, NY    NEW YORK            NY  \n",
       "2       GREAT NECK, NY    NEW YORK            NY  \n",
       "3       GREAT NECK, NY    NEW YORK            NY  \n",
       "4       GREAT NECK, NY    NEW YORK            NY  "
      ]
     },
     "execution_count": 6,
     "metadata": {},
     "output_type": "execute_result"
    }
   ],
   "source": [
    "# Load geo spine data - importantly reading zip_code as string to preserve leading zeros\n",
    "geo_spine_df = pd.read_csv('../data/reference/geo_spine.csv', dtype={'zip_code': str})\n",
    "\n",
    "# Display the first few rows\n",
    "print(f\"Total geo spine records: {len(geo_spine_df)}\")\n",
    "geo_spine_df.head()"
   ]
  },
  {
   "cell_type": "code",
   "execution_count": 7,
   "metadata": {},
   "outputs": [
    {
     "data": {
      "text/plain": [
       "zip_code         object\n",
       "dma_code          int64\n",
       "dma_name         object\n",
       "city             object\n",
       "state            object\n",
       "state_name       object\n",
       "geo_key_zip       int64\n",
       "geo_key_city     object\n",
       "geo_key_dma      object\n",
       "geo_key_state    object\n",
       "dtype: object"
      ]
     },
     "execution_count": 7,
     "metadata": {},
     "output_type": "execute_result"
    }
   ],
   "source": [
    "# Verify data types - especially that zip_code is string\n",
    "geo_spine_df.dtypes"
   ]
  },
  {
   "cell_type": "code",
   "execution_count": 8,
   "metadata": {},
   "outputs": [
    {
     "name": "stdout",
     "output_type": "stream",
     "text": [
      "Number of unique city-state combinations: 24101\n"
     ]
    },
    {
     "data": {
      "text/html": [
       "<div>\n",
       "<style scoped>\n",
       "    .dataframe tbody tr th:only-of-type {\n",
       "        vertical-align: middle;\n",
       "    }\n",
       "\n",
       "    .dataframe tbody tr th {\n",
       "        vertical-align: top;\n",
       "    }\n",
       "\n",
       "    .dataframe thead th {\n",
       "        text-align: right;\n",
       "    }\n",
       "</style>\n",
       "<table border=\"1\" class=\"dataframe\">\n",
       "  <thead>\n",
       "    <tr style=\"text-align: right;\">\n",
       "      <th></th>\n",
       "      <th>city_cleaned</th>\n",
       "      <th>state_upper</th>\n",
       "      <th>dma_name</th>\n",
       "    </tr>\n",
       "  </thead>\n",
       "  <tbody>\n",
       "    <tr>\n",
       "      <th>0</th>\n",
       "      <td>AARONSBURG</td>\n",
       "      <td>PA</td>\n",
       "      <td>JOHNSTOWN-ALTOONA-ST COLGE</td>\n",
       "    </tr>\n",
       "    <tr>\n",
       "      <th>1</th>\n",
       "      <td>ABBEVILLE</td>\n",
       "      <td>AL</td>\n",
       "      <td>DOTHAN</td>\n",
       "    </tr>\n",
       "    <tr>\n",
       "      <th>2</th>\n",
       "      <td>ABBEVILLE</td>\n",
       "      <td>GA</td>\n",
       "      <td>MACON</td>\n",
       "    </tr>\n",
       "    <tr>\n",
       "      <th>3</th>\n",
       "      <td>ABBEVILLE</td>\n",
       "      <td>LA</td>\n",
       "      <td>LAFAYETTE, LA</td>\n",
       "    </tr>\n",
       "    <tr>\n",
       "      <th>4</th>\n",
       "      <td>ABBEVILLE</td>\n",
       "      <td>MS</td>\n",
       "      <td>MEMPHIS</td>\n",
       "    </tr>\n",
       "  </tbody>\n",
       "</table>\n",
       "</div>"
      ],
      "text/plain": [
       "  city_cleaned state_upper                    dma_name\n",
       "0   AARONSBURG          PA  JOHNSTOWN-ALTOONA-ST COLGE\n",
       "1    ABBEVILLE          AL                      DOTHAN\n",
       "2    ABBEVILLE          GA                       MACON\n",
       "3    ABBEVILLE          LA               LAFAYETTE, LA\n",
       "4    ABBEVILLE          MS                     MEMPHIS"
      ]
     },
     "execution_count": 8,
     "metadata": {},
     "output_type": "execute_result"
    }
   ],
   "source": [
    "# Prepare city mapping from geo_spine for joining\n",
    "# Extract state from geo_key_city (format: \"CITY, STATE\")\n",
    "geo_spine_df['city_cleaned'] = geo_spine_df['city'].str.upper()\n",
    "geo_spine_df['state_upper'] = geo_spine_df['state'].str.upper()\n",
    "\n",
    "# Create a dictionary mapping (city, state) to DMA\n",
    "city_to_dma = geo_spine_df.groupby(['city_cleaned', 'state_upper'])['dma_name'].first().reset_index()\n",
    "print(f\"Number of unique city-state combinations: {len(city_to_dma)}\")\n",
    "city_to_dma.head()"
   ]
  },
  {
   "cell_type": "markdown",
   "metadata": {},
   "source": [
    "## 3. Join GA4 Data to Geo Spine"
   ]
  },
  {
   "cell_type": "code",
   "execution_count": 9,
   "metadata": {},
   "outputs": [
    {
     "name": "stdout",
     "output_type": "stream",
     "text": [
      "Join success rate: 84.12%\n"
     ]
    },
    {
     "data": {
      "text/html": [
       "<div>\n",
       "<style scoped>\n",
       "    .dataframe tbody tr th:only-of-type {\n",
       "        vertical-align: middle;\n",
       "    }\n",
       "\n",
       "    .dataframe tbody tr th {\n",
       "        vertical-align: top;\n",
       "    }\n",
       "\n",
       "    .dataframe thead th {\n",
       "        text-align: right;\n",
       "    }\n",
       "</style>\n",
       "<table border=\"1\" class=\"dataframe\">\n",
       "  <thead>\n",
       "    <tr style=\"text-align: right;\">\n",
       "      <th></th>\n",
       "      <th>Date</th>\n",
       "      <th>Region</th>\n",
       "      <th>Region ID</th>\n",
       "      <th>City</th>\n",
       "      <th>City ID</th>\n",
       "      <th>Sessions</th>\n",
       "      <th>Engaged sessions</th>\n",
       "      <th>City_Upper</th>\n",
       "      <th>State_Code</th>\n",
       "      <th>city_cleaned</th>\n",
       "      <th>state_upper</th>\n",
       "      <th>dma_name</th>\n",
       "    </tr>\n",
       "  </thead>\n",
       "  <tbody>\n",
       "    <tr>\n",
       "      <th>0</th>\n",
       "      <td>2025-03-19</td>\n",
       "      <td>(not set)</td>\n",
       "      <td>(not set)</td>\n",
       "      <td>(not set)</td>\n",
       "      <td>(not set)</td>\n",
       "      <td>19</td>\n",
       "      <td>1</td>\n",
       "      <td>(NOT SET)</td>\n",
       "      <td>NaN</td>\n",
       "      <td>NaN</td>\n",
       "      <td>NaN</td>\n",
       "      <td>NaN</td>\n",
       "    </tr>\n",
       "    <tr>\n",
       "      <th>1</th>\n",
       "      <td>2025-03-19</td>\n",
       "      <td>Alabama</td>\n",
       "      <td>US-AL</td>\n",
       "      <td>Headland</td>\n",
       "      <td>1013037</td>\n",
       "      <td>1</td>\n",
       "      <td>0</td>\n",
       "      <td>HEADLAND</td>\n",
       "      <td>AL</td>\n",
       "      <td>HEADLAND</td>\n",
       "      <td>AL</td>\n",
       "      <td>DOTHAN</td>\n",
       "    </tr>\n",
       "    <tr>\n",
       "      <th>2</th>\n",
       "      <td>2025-03-19</td>\n",
       "      <td>Alabama</td>\n",
       "      <td>US-AL</td>\n",
       "      <td>Huntsville</td>\n",
       "      <td>1013042</td>\n",
       "      <td>1</td>\n",
       "      <td>0</td>\n",
       "      <td>HUNTSVILLE</td>\n",
       "      <td>AL</td>\n",
       "      <td>HUNTSVILLE</td>\n",
       "      <td>AL</td>\n",
       "      <td>HUNTSVILLE-DECATUR (FLOR)</td>\n",
       "    </tr>\n",
       "    <tr>\n",
       "      <th>3</th>\n",
       "      <td>2025-03-19</td>\n",
       "      <td>Alabama</td>\n",
       "      <td>US-AL</td>\n",
       "      <td>Uniontown</td>\n",
       "      <td>9207090</td>\n",
       "      <td>1</td>\n",
       "      <td>1</td>\n",
       "      <td>UNIONTOWN</td>\n",
       "      <td>AL</td>\n",
       "      <td>UNIONTOWN</td>\n",
       "      <td>AL</td>\n",
       "      <td>MONTGOMERY-SELMA</td>\n",
       "    </tr>\n",
       "    <tr>\n",
       "      <th>4</th>\n",
       "      <td>2025-03-19</td>\n",
       "      <td>Alaska</td>\n",
       "      <td>US-AK</td>\n",
       "      <td>Sitka</td>\n",
       "      <td>1012913</td>\n",
       "      <td>1</td>\n",
       "      <td>0</td>\n",
       "      <td>SITKA</td>\n",
       "      <td>AK</td>\n",
       "      <td>SITKA</td>\n",
       "      <td>AK</td>\n",
       "      <td>JUNEAU</td>\n",
       "    </tr>\n",
       "  </tbody>\n",
       "</table>\n",
       "</div>"
      ],
      "text/plain": [
       "        Date     Region  Region ID        City    City ID  Sessions  \\\n",
       "0 2025-03-19  (not set)  (not set)   (not set)  (not set)        19   \n",
       "1 2025-03-19    Alabama      US-AL    Headland    1013037         1   \n",
       "2 2025-03-19    Alabama      US-AL  Huntsville    1013042         1   \n",
       "3 2025-03-19    Alabama      US-AL   Uniontown    9207090         1   \n",
       "4 2025-03-19     Alaska      US-AK       Sitka    1012913         1   \n",
       "\n",
       "   Engaged sessions  City_Upper State_Code city_cleaned state_upper  \\\n",
       "0                 1   (NOT SET)        NaN          NaN         NaN   \n",
       "1                 0    HEADLAND         AL     HEADLAND          AL   \n",
       "2                 0  HUNTSVILLE         AL   HUNTSVILLE          AL   \n",
       "3                 1   UNIONTOWN         AL    UNIONTOWN          AL   \n",
       "4                 0       SITKA         AK        SITKA          AK   \n",
       "\n",
       "                    dma_name  \n",
       "0                        NaN  \n",
       "1                     DOTHAN  \n",
       "2  HUNTSVILLE-DECATUR (FLOR)  \n",
       "3           MONTGOMERY-SELMA  \n",
       "4                     JUNEAU  "
      ]
     },
     "execution_count": 9,
     "metadata": {},
     "output_type": "execute_result"
    }
   ],
   "source": [
    "# Prepare GA4 data for joining\n",
    "ga4_df['City_Upper'] = ga4_df['City'].str.upper()\n",
    "ga4_df['State_Code'] = ga4_df['Region ID'].str.split('-').str[1]\n",
    "\n",
    "# Join GA4 data with city-to-DMA mapping\n",
    "ga4_geo_df = ga4_df.merge(\n",
    "    city_to_dma,\n",
    "    left_on=['City_Upper', 'State_Code'],\n",
    "    right_on=['city_cleaned', 'state_upper'],\n",
    "    how='left'\n",
    ")\n",
    "\n",
    "# Check the join success rate\n",
    "join_success_rate = (ga4_geo_df['dma_name'].notna().sum() / len(ga4_geo_df)) * 100\n",
    "print(f\"Join success rate: {join_success_rate:.2f}%\")\n",
    "\n",
    "# Display the joined data\n",
    "ga4_geo_df.head()"
   ]
  },
  {
   "cell_type": "code",
   "execution_count": 10,
   "metadata": {},
   "outputs": [
    {
     "name": "stdout",
     "output_type": "stream",
     "text": [
      "Number of unmatched GA4 records: 15879\n"
     ]
    },
    {
     "data": {
      "text/html": [
       "<div>\n",
       "<style scoped>\n",
       "    .dataframe tbody tr th:only-of-type {\n",
       "        vertical-align: middle;\n",
       "    }\n",
       "\n",
       "    .dataframe tbody tr th {\n",
       "        vertical-align: top;\n",
       "    }\n",
       "\n",
       "    .dataframe thead th {\n",
       "        text-align: right;\n",
       "    }\n",
       "</style>\n",
       "<table border=\"1\" class=\"dataframe\">\n",
       "  <thead>\n",
       "    <tr style=\"text-align: right;\">\n",
       "      <th></th>\n",
       "      <th>Date</th>\n",
       "      <th>Region</th>\n",
       "      <th>Region ID</th>\n",
       "      <th>City</th>\n",
       "      <th>City ID</th>\n",
       "      <th>Sessions</th>\n",
       "      <th>Engaged sessions</th>\n",
       "      <th>City_Upper</th>\n",
       "      <th>State_Code</th>\n",
       "      <th>city_cleaned</th>\n",
       "      <th>state_upper</th>\n",
       "      <th>dma_name</th>\n",
       "    </tr>\n",
       "  </thead>\n",
       "  <tbody>\n",
       "    <tr>\n",
       "      <th>0</th>\n",
       "      <td>2025-03-19</td>\n",
       "      <td>(not set)</td>\n",
       "      <td>(not set)</td>\n",
       "      <td>(not set)</td>\n",
       "      <td>(not set)</td>\n",
       "      <td>19</td>\n",
       "      <td>1</td>\n",
       "      <td>(NOT SET)</td>\n",
       "      <td>NaN</td>\n",
       "      <td>NaN</td>\n",
       "      <td>NaN</td>\n",
       "      <td>NaN</td>\n",
       "    </tr>\n",
       "    <tr>\n",
       "      <th>8</th>\n",
       "      <td>2025-03-19</td>\n",
       "      <td>Arizona</td>\n",
       "      <td>US-AZ</td>\n",
       "      <td>San Tan Valley</td>\n",
       "      <td>9052798</td>\n",
       "      <td>1</td>\n",
       "      <td>1</td>\n",
       "      <td>SAN TAN VALLEY</td>\n",
       "      <td>AZ</td>\n",
       "      <td>NaN</td>\n",
       "      <td>NaN</td>\n",
       "      <td>NaN</td>\n",
       "    </tr>\n",
       "    <tr>\n",
       "      <th>14</th>\n",
       "      <td>2025-03-19</td>\n",
       "      <td>California</td>\n",
       "      <td>US-CA</td>\n",
       "      <td>(not set)</td>\n",
       "      <td>(not set)</td>\n",
       "      <td>3</td>\n",
       "      <td>1</td>\n",
       "      <td>(NOT SET)</td>\n",
       "      <td>CA</td>\n",
       "      <td>NaN</td>\n",
       "      <td>NaN</td>\n",
       "      <td>NaN</td>\n",
       "    </tr>\n",
       "    <tr>\n",
       "      <th>28</th>\n",
       "      <td>2025-03-19</td>\n",
       "      <td>California</td>\n",
       "      <td>US-CA</td>\n",
       "      <td>East Los Angeles</td>\n",
       "      <td>9051873</td>\n",
       "      <td>4</td>\n",
       "      <td>4</td>\n",
       "      <td>EAST LOS ANGELES</td>\n",
       "      <td>CA</td>\n",
       "      <td>NaN</td>\n",
       "      <td>NaN</td>\n",
       "      <td>NaN</td>\n",
       "    </tr>\n",
       "    <tr>\n",
       "      <th>41</th>\n",
       "      <td>2025-03-19</td>\n",
       "      <td>California</td>\n",
       "      <td>US-CA</td>\n",
       "      <td>Naval Air Station Point Mugu</td>\n",
       "      <td>1014152</td>\n",
       "      <td>1</td>\n",
       "      <td>1</td>\n",
       "      <td>NAVAL AIR STATION POINT MUGU</td>\n",
       "      <td>CA</td>\n",
       "      <td>NaN</td>\n",
       "      <td>NaN</td>\n",
       "      <td>NaN</td>\n",
       "    </tr>\n",
       "  </tbody>\n",
       "</table>\n",
       "</div>"
      ],
      "text/plain": [
       "         Date      Region  Region ID                          City    City ID  \\\n",
       "0  2025-03-19   (not set)  (not set)                     (not set)  (not set)   \n",
       "8  2025-03-19     Arizona      US-AZ                San Tan Valley    9052798   \n",
       "14 2025-03-19  California      US-CA                     (not set)  (not set)   \n",
       "28 2025-03-19  California      US-CA              East Los Angeles    9051873   \n",
       "41 2025-03-19  California      US-CA  Naval Air Station Point Mugu    1014152   \n",
       "\n",
       "    Sessions  Engaged sessions                    City_Upper State_Code  \\\n",
       "0         19                 1                     (NOT SET)        NaN   \n",
       "8          1                 1                SAN TAN VALLEY         AZ   \n",
       "14         3                 1                     (NOT SET)         CA   \n",
       "28         4                 4              EAST LOS ANGELES         CA   \n",
       "41         1                 1  NAVAL AIR STATION POINT MUGU         CA   \n",
       "\n",
       "   city_cleaned state_upper dma_name  \n",
       "0           NaN         NaN      NaN  \n",
       "8           NaN         NaN      NaN  \n",
       "14          NaN         NaN      NaN  \n",
       "28          NaN         NaN      NaN  \n",
       "41          NaN         NaN      NaN  "
      ]
     },
     "execution_count": 10,
     "metadata": {},
     "output_type": "execute_result"
    }
   ],
   "source": [
    "# Check records that didn't join successfully\n",
    "unmatched_ga4 = ga4_geo_df[ga4_geo_df['dma_name'].isna()]\n",
    "print(f\"Number of unmatched GA4 records: {len(unmatched_ga4)}\")\n",
    "unmatched_ga4.head()"
   ]
  },
  {
   "cell_type": "code",
   "execution_count": 11,
   "metadata": {},
   "outputs": [
    {
     "name": "stdout",
     "output_type": "stream",
     "text": [
      "Updated join success rate: 99.65%\n"
     ]
    }
   ],
   "source": [
    "# For unmatched records, try to use Region (State) level geographic data\n",
    "# Create a state-to-DMA mapping (using the most common DMA in each state)\n",
    "state_to_dma = geo_spine_df.groupby('state_upper')['dma_name'].agg(\n",
    "    lambda x: x.value_counts().index[0] if len(x.value_counts()) > 0 else None\n",
    ").reset_index()\n",
    "\n",
    "# Apply state-level mapping for records without city match\n",
    "state_mapping_dict = dict(zip(state_to_dma['state_upper'], state_to_dma['dma_name']))\n",
    "\n",
    "# Fill missing DMA values with state-based mapping\n",
    "ga4_geo_df.loc[ga4_geo_df['dma_name'].isna(), 'dma_name'] = \\\n",
    "    ga4_geo_df.loc[ga4_geo_df['dma_name'].isna(), 'State_Code'].map(state_mapping_dict)\n",
    "\n",
    "# Check the updated join success rate\n",
    "updated_join_rate = (ga4_geo_df['dma_name'].notna().sum() / len(ga4_geo_df)) * 100\n",
    "print(f\"Updated join success rate: {updated_join_rate:.2f}%\")"
   ]
  },
  {
   "cell_type": "markdown",
   "metadata": {},
   "source": [
    "## 4. Group Data at DMA Level"
   ]
  },
  {
   "cell_type": "code",
   "execution_count": null,
   "metadata": {},
   "outputs": [],
   "source": [
    "# Add year-month field for temporal analysis\n",
    "ga4_geo_df['year_month'] = ga4_geo_df['Date'].dt.to_period('M')\n",
    "\n",
    "# Group by DMA and calculate metrics\n",
    "dma_sessions = ga4_geo_df.groupby('dma_name').agg(\n",
    "    total_sessions=('Sessions', 'sum'),\n",
    "    engaged_sessions=('Engaged sessions', 'sum'),\n",
    "    unique_cities=('City', 'nunique'),\n",
    "    first_session_date=('Date', 'min'),\n",
    "    last_session_date=('Date', 'max')\n",
    ").reset_index()\n",
    "\n",
    "# Calculate engagement rate\n",
    "dma_sessions['engagement_rate'] = (dma_sessions['engaged_sessions'] / dma_sessions['total_sessions'] * 100).round(2)\n",
    "\n",
    "# Calculate days between first and last session\n",
    "dma_sessions['active_days'] = (dma_sessions['last_session_date'] - dma_sessions['first_session_date']).dt.days\n",
    "\n",
    "# Sort by total sessions\n",
    "dma_sessions = dma_sessions.sort_values('total_sessions', ascending=False)\n",
    "\n",
    "# Display the results\n",
    "print(f\"Number of DMAs with sessions: {len(dma_sessions)}\")\n",
    "dma_sessions.head(10)"
   ]
  },
  {
   "cell_type": "code",
   "execution_count": null,
   "metadata": {},
   "outputs": [],
   "source": [
    "# Group by DMA and year-month to see temporal trends\n",
    "dma_monthly_sessions = ga4_geo_df.groupby(['dma_name', 'year_month']).agg(\n",
    "    monthly_sessions=('Sessions', 'sum'),\n",
    "    monthly_engaged=('Engaged sessions', 'sum')\n",
    ").reset_index()\n",
    "\n",
    "# Calculate monthly engagement rate\n",
    "dma_monthly_sessions['monthly_engagement_rate'] = (\n",
    "    dma_monthly_sessions['monthly_engaged'] / dma_monthly_sessions['monthly_sessions'] * 100\n",
    ").round(2)\n",
    "\n",
    "# Convert Period to string for plotting\n",
    "dma_monthly_sessions['year_month_str'] = dma_monthly_sessions['year_month'].astype(str)\n",
    "\n",
    "# Show sample of temporal data\n",
    "dma_monthly_sessions.head()"
   ]
  },
  {
   "cell_type": "markdown",
   "metadata": {},
   "source": [
    "## 5. Data Summary and Visualization"
   ]
  },
  {
   "cell_type": "code",
   "execution_count": null,
   "metadata": {},
   "outputs": [],
   "source": [
    "# Summary statistics for DMA sessions\n",
    "dma_sessions.describe()"
   ]
  },
  {
   "cell_type": "code",
   "execution_count": null,
   "metadata": {},
   "outputs": [],
   "source": [
    "# Plot top 15 DMAs by total sessions\n",
    "plt.figure(figsize=(14, 8))\n",
    "ax = sns.barplot(x='total_sessions', y='dma_name', data=dma_sessions.head(15))\n",
    "plt.title('Top 15 DMAs by Total Sessions', fontsize=16)\n",
    "plt.xlabel('Total Sessions', fontsize=14)\n",
    "plt.ylabel('DMA', fontsize=14)\n",
    "\n",
    "# Add engagement rate as text\n",
    "for i, row in enumerate(dma_sessions.head(15).itertuples()):\n",
    "    ax.text(row.total_sessions + 5, i, f\"{row.engagement_rate}%\", va='center')\n",
    "    \n",
    "plt.tight_layout()\n",
    "plt.show()"
   ]
  },
  {
   "cell_type": "code",
   "execution_count": null,
   "metadata": {},
   "outputs": [],
   "source": [
    "# Plot distribution of sessions across all DMAs\n",
    "plt.figure(figsize=(12, 6))\n",
    "sns.histplot(dma_sessions['total_sessions'], bins=30, kde=True)\n",
    "plt.title('Distribution of Total Sessions by DMA', fontsize=16)\n",
    "plt.xlabel('Total Sessions', fontsize=14)\n",
    "plt.ylabel('Frequency', fontsize=14)\n",
    "plt.axvline(dma_sessions['total_sessions'].mean(), color='red', linestyle='--', label=f'Mean: {dma_sessions[\"total_sessions\"].mean():.1f}')\n",
    "plt.axvline(dma_sessions['total_sessions'].median(), color='green', linestyle='--', label=f'Median: {dma_sessions[\"total_sessions\"].median():.1f}')\n",
    "plt.legend()\n",
    "plt.show()"
   ]
  },
  {
   "cell_type": "code",
   "execution_count": null,
   "metadata": {},
   "outputs": [],
   "source": [
    "# Plot engagement rate by DMA (top 15)\n",
    "plt.figure(figsize=(14, 8))\n",
    "engagement_data = dma_sessions.head(15).sort_values('engagement_rate', ascending=False)\n",
    "sns.barplot(x='engagement_rate', y='dma_name', data=engagement_data)\n",
    "plt.title('Engagement Rate by DMA (Top 15 by Sessions)', fontsize=16)\n",
    "plt.xlabel('Engagement Rate (%)', fontsize=14)\n",
    "plt.ylabel('DMA', fontsize=14)\n",
    "plt.axvline(dma_sessions['engagement_rate'].mean(), color='red', linestyle='--', label=f'Mean: {dma_sessions[\"engagement_rate\"].mean():.1f}%')\n",
    "plt.legend()\n",
    "plt.tight_layout()\n",
    "plt.show()"
   ]
  },
  {
   "cell_type": "code",
   "execution_count": null,
   "metadata": {},
   "outputs": [],
   "source": [
    "# Plot sessions over time for top 5 DMAs\n",
    "top_5_dmas = dma_sessions.head(5)['dma_name'].tolist()\n",
    "plt.figure(figsize=(16, 8))\n",
    "\n",
    "for dma in top_5_dmas:\n",
    "    dma_data = dma_monthly_sessions[dma_monthly_sessions['dma_name'] == dma]\n",
    "    plt.plot(dma_data['year_month_str'], dma_data['monthly_sessions'], marker='o', linewidth=2, label=dma)\n",
    "\n",
    "plt.title('Monthly Sessions Trend for Top 5 DMAs', fontsize=16)\n",
    "plt.xlabel('Year-Month', fontsize=14)\n",
    "plt.ylabel('Number of Sessions', fontsize=14)\n",
    "plt.xticks(rotation=45)\n",
    "plt.legend(title='DMA')\n",
    "plt.grid(True, alpha=0.3)\n",
    "plt.tight_layout()\n",
    "plt.show()"
   ]
  },
  {
   "cell_type": "code",
   "execution_count": null,
   "metadata": {},
   "outputs": [],
   "source": [
    "# Plot engagement rate over time for top 5 DMAs\n",
    "plt.figure(figsize=(16, 8))\n",
    "\n",
    "for dma in top_5_dmas:\n",
    "    dma_data = dma_monthly_sessions[dma_monthly_sessions['dma_name'] == dma]\n",
    "    plt.plot(dma_data['year_month_str'], dma_data['monthly_engagement_rate'], marker='o', linewidth=2, label=dma)\n",
    "\n",
    "plt.title('Monthly Engagement Rate Trend for Top 5 DMAs', fontsize=16)\n",
    "plt.xlabel('Year-Month', fontsize=14)\n",
    "plt.ylabel('Engagement Rate (%)', fontsize=14)\n",
    "plt.xticks(rotation=45)\n",
    "plt.legend(title='DMA')\n",
    "plt.grid(True, alpha=0.3)\n",
    "plt.tight_layout()\n",
    "plt.show()"
   ]
  },
  {
   "cell_type": "markdown",
   "metadata": {},
   "source": [
    "## 6. Key Insights and Findings"
   ]
  },
  {
   "cell_type": "code",
   "execution_count": null,
   "metadata": {},
   "outputs": [],
   "source": [
    "# Calculate market concentration metrics\n",
    "total_market_sessions = dma_sessions['total_sessions'].sum()\n",
    "dma_sessions['market_share'] = dma_sessions['total_sessions'] / total_market_sessions * 100\n",
    "\n",
    "# Calculate cumulative market share\n",
    "dma_sessions['cumulative_share'] = dma_sessions['market_share'].cumsum()\n",
    "\n",
    "# Top 10 DMAs market share\n",
    "top_10_share = dma_sessions.head(10)['market_share'].sum()\n",
    "print(f\"Top 10 DMAs account for {top_10_share:.1f}% of all sessions\")\n",
    "\n",
    "# Find the DMAs that make up 80% of sessions (Pareto principle check)\n",
    "pareto_dmas = dma_sessions[dma_sessions['cumulative_share'] <= 80]\n",
    "print(f\"Number of DMAs accounting for 80% of sessions: {len(pareto_dmas)}\")\n",
    "\n",
    "# Display top DMAs with their market share\n",
    "dma_sessions[['dma_name', 'total_sessions', 'engagement_rate', 'market_share', 'cumulative_share']].head(15)"
   ]
  },
  {
   "cell_type": "code",
   "execution_count": null,
   "metadata": {},
   "outputs": [],
   "source": [
    "# Compare total sessions with engagement rate\n",
    "plt.figure(figsize=(12, 8))\n",
    "plt.scatter(dma_sessions['total_sessions'], dma_sessions['engagement_rate'], alpha=0.7)\n",
    "plt.title('Engagement Rate vs. Total Sessions by DMA', fontsize=16)\n",
    "plt.xlabel('Total Sessions', fontsize=14)\n",
    "plt.ylabel('Engagement Rate (%)', fontsize=14)\n",
    "plt.grid(True, alpha=0.3)\n",
    "\n",
    "# Annotate top DMAs\n",
    "for i, row in dma_sessions.head(10).iterrows():\n",
    "    plt.annotate(row['dma_name'], \n",
    "                 xy=(row['total_sessions'], row['engagement_rate']),\n",
    "                 xytext=(5, 5), textcoords='offset points',\n",
    "                 fontsize=9)\n",
    "    \n",
    "plt.tight_layout()\n",
    "plt.show()"
   ]
  },
  {
   "cell_type": "markdown",
   "metadata": {},
   "source": [
    "## 7. Conclusion and Next Steps\n",
    "\n",
    "In this analysis, we have:\n",
    "\n",
    "1. Successfully joined the GA4 sessions data with geographic reference data\n",
    "2. Grouped and analyzed the data at the DMA level\n",
    "3. Identified the top DMAs by session volume and engagement rate\n",
    "4. Examined temporal trends in session activity and engagement by DMA\n",
    "5. Analyzed market concentration and distribution of sessions across DMAs\n",
    "\n",
    "Next steps could include:\n",
    "\n",
    "1. Deeper analysis of engagement patterns by DMA\n",
    "2. Correlation of GA4 sessions with other metrics such as orders or marketing spend\n",
    "3. Analysis of geographic factors that might influence engagement rates\n",
    "4. Predictive modeling to forecast future traffic and engagement by DMA"
   ]
  }
 ],
 "metadata": {
  "kernelspec": {
   "display_name": "Python 3 (ipykernel)",
   "language": "python",
   "name": "python3"
  },
  "language_info": {
   "codemirror_mode": {
    "name": "ipython",
    "version": 3
   },
   "file_extension": ".py",
   "mimetype": "text/x-python",
   "name": "python",
   "nbconvert_exporter": "python",
   "pygments_lexer": "ipython3",
   "version": "3.7.17"
  }
 },
 "nbformat": 4,
 "nbformat_minor": 4
}
